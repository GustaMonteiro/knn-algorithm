{
 "cells": [
  {
   "cell_type": "markdown",
   "id": "2a2b11f5-2c45-4477-8ee4-8763a2ef07a9",
   "metadata": {},
   "source": [
    "# Algoritmo KNN para classificação de Peças de LEGO!"
   ]
  },
  {
   "cell_type": "markdown",
   "id": "35d08f99-4187-4415-85f4-20f3358b5aae",
   "metadata": {},
   "source": [
    "## ⚠️ Atenção\n",
    "Antes de iniciar a execução, confira o arquivo `src/Settings.py` para garantir que os parâmetros de execução estejam de acordo com o desejado.\n",
    "\n",
    "**Parâmetros:**\n",
    "- USE_NUMPY_ARRAY: Se definido como `True`, o programa usará os arrays da biblioteca Numpy para executar os calculos, o que tornará o programa muito mais rápido\n",
    "- N_ROWS: Número de linhas que será trabalhado nas imagens, tanto para preprocessamento (redução de dimensão) quanto para ler as imagens preprocessadas de volta\n",
    "- N_COLUMNS: Semelhante ao `N_ROWS`, porém para colunas\n",
    "- PREPROCESS_IMAGES: Se definido como `True`, o programa irá fazer o preprocessamento das imagens, excluindo qualquer preprocessamento já feito (por ser uma ação destrutiva, o programa irá pedir sua confirmação)\n",
    "- N_THREADS: Número de threads / processos que será utilizado para fazer processamento paralelo (acelera o tempo de execução)\n",
    "- N_TESTS_USED: Número de testes para ser usado, caso deseje realizar testes menores (se definido como 0, o programa usará todos os testes)\n",
    "\n",
    "***Use a célula de imports, variáveis e locks para definir a métrica que será usada.***"
   ]
  },
  {
   "cell_type": "markdown",
   "id": "9d90748b-ff06-437a-a41e-730b96c97bca",
   "metadata": {},
   "source": [
    "## Imports, variáveis e Locks"
   ]
  },
  {
   "cell_type": "code",
   "execution_count": null,
   "id": "709c1703-97ca-4dcd-9652-cfa5d5a5127f",
   "metadata": {},
   "outputs": [],
   "source": [
    "import matplotlib.pyplot as plt\n",
    "import numpy as np\n",
    "import os\n",
    "import cv2\n",
    "import time\n",
    "\n",
    "from threading import Thread\n",
    "from threading import Lock\n",
    "\n",
    "import multiprocessing\n",
    "\n",
    "from sklearn.model_selection import train_test_split \n",
    "\n",
    "from src.Images import preprocess_images_from_dir\n",
    "from src.Images import get_all_images_path\n",
    "from src.Images import read_processed_image\n",
    "from src.Images import plot_image\n",
    "from src.Images import flatten_to_image\n",
    "\n",
    "from src.Distances import euclidean_distance\n",
    "from src.Distances import cosine_distance\n",
    "\n",
    "from src.Knn import Knn\n",
    "\n",
    "from src.Settings import Settings\n",
    "from src.Settings import print_all_settings\n",
    "\n",
    "from src.Parallel import thread_classify_function\n",
    "from src.Parallel import split_data_into_chunks\n",
    "\n",
    "METRIC_TO_BE_USED = cosine_distance\n",
    "\n",
    "file_lock = Lock()\n",
    "results_lock = Lock()\n",
    "\n",
    "total_correct = multiprocessing.Value('i', 0)\n",
    "total_wrong = multiprocessing.Value('i', 0)\n",
    "\n",
    "print_all_settings()\n"
   ]
  },
  {
   "cell_type": "markdown",
   "id": "368e60ad-7d34-4c65-b14e-63a87f7d19f3",
   "metadata": {},
   "source": [
    "## Preprocessamento das imagens"
   ]
  },
  {
   "cell_type": "code",
   "execution_count": null,
   "id": "851d2727-e87b-4f7f-81c7-8163c85ae7be",
   "metadata": {},
   "outputs": [],
   "source": [
    "if Settings.PREPROCESS_IMAGES:\n",
    "    ans = input(\"Are you sure you want to preprocess all images? [type 'yes']\")\n",
    "    if ans == \"yes\":\n",
    "        preprocess_images_from_dir(\n",
    "            dir_path=Settings.IMAGES_DIR, n_rows=Settings.N_ROWS,\n",
    "            n_columns=Settings.N_COLUMNS, extension=\"png\"\n",
    "        )"
   ]
  },
  {
   "cell_type": "markdown",
   "id": "616328d1-b7fc-4a30-ba41-8faa2a065b98",
   "metadata": {},
   "source": [
    "## Paths para as imagens preprocessadas"
   ]
  },
  {
   "cell_type": "code",
   "execution_count": null,
   "id": "ef1f1bb0-b9d9-4e50-8dda-966fcaee0a13",
   "metadata": {},
   "outputs": [],
   "source": [
    "images_path = get_all_images_path(Settings.PROCESSED_IMAGES_PATH)\n",
    "images_path[:3]"
   ]
  },
  {
   "cell_type": "markdown",
   "id": "e2abb447-2b2a-487d-9bb9-6d4340c1f0a9",
   "metadata": {},
   "source": [
    "## Organizando os dados"
   ]
  },
  {
   "cell_type": "code",
   "execution_count": null,
   "id": "00bc39ea-34b4-47ab-9e43-fc4d7b26e04f",
   "metadata": {},
   "outputs": [],
   "source": [
    "data = [\n",
    "    (\n",
    "        int(path.split(\" \")[0].split(\"/\")[-1]),\n",
    "        read_processed_image(path, Settings.N_ROWS, Settings.N_COLUMNS).flatten()\n",
    "    ) for path in images_path\n",
    "] if Settings.USE_NUMPY_ARRAY else [\n",
    "    (\n",
    "        int(path.split(\" \")[0].split(\"/\")[-1]),\n",
    "        list(read_processed_image(path, Settings.N_ROWS, Settings.N_COLUMNS).flatten())\n",
    "    ) for path in images_path\n",
    "]\n",
    "\n",
    "\n",
    "y, x = zip(*data)\n",
    "x = list(x)\n",
    "y = list(y)"
   ]
  },
  {
   "cell_type": "markdown",
   "id": "f9e35645-f8b4-40bc-853f-b7c996a7df39",
   "metadata": {},
   "source": [
    "## Divisão em treino e teste"
   ]
  },
  {
   "cell_type": "code",
   "execution_count": null,
   "id": "6b106fb7-5a55-4852-ad24-55fe13b9fc93",
   "metadata": {},
   "outputs": [],
   "source": [
    "x_train, x_test, y_train, y_test = train_test_split(x, y, test_size=0.3, random_state=42, shuffle=True)"
   ]
  },
  {
   "cell_type": "markdown",
   "id": "412cc3e6-9a8a-418f-b078-0dd6b6a05a23",
   "metadata": {},
   "source": [
    "## Treinando o modelo (adicionando os elementos conhecidos)"
   ]
  },
  {
   "cell_type": "code",
   "execution_count": null,
   "id": "a63db8d3-e2cc-4361-8196-7064577448de",
   "metadata": {},
   "outputs": [],
   "source": [
    "knn = Knn()\n",
    "\n",
    "knn.add_points(list(zip(y_train, x_train)))"
   ]
  },
  {
   "cell_type": "markdown",
   "id": "46217612-7e08-4fd6-94ee-020a4f174a01",
   "metadata": {},
   "source": [
    "## Demonstração de imagem preprocessada"
   ]
  },
  {
   "cell_type": "code",
   "execution_count": null,
   "id": "110f46f1-3a7f-49b1-8eaf-778a0a17a00c",
   "metadata": {},
   "outputs": [],
   "source": [
    "plot_image(flatten_to_image(x_train[0], Settings.N_ROWS, Settings.N_COLUMNS))"
   ]
  },
  {
   "cell_type": "markdown",
   "id": "822cbb69-0dac-4f03-a13b-332abb6166c9",
   "metadata": {},
   "source": [
    "## Classificando conjunto de teste"
   ]
  },
  {
   "cell_type": "code",
   "execution_count": null,
   "id": "578796b4-63d5-4cba-bb94-15e8c716b759",
   "metadata": {},
   "outputs": [],
   "source": [
    "tests_to_be_used = Settings.N_TESTS_USED if Settings.N_TESTS_USED > 0 else len(x_test)\n",
    "\n",
    "test_data = list(zip(x_test[:tests_to_be_used], y_test[:tests_to_be_used]))\n",
    "total_tests = len(test_data)\n",
    "\n",
    "chunks = split_data_into_chunks(test_data, Settings.N_THREADS)\n",
    "\n",
    "total_execution_start = time.time()\n",
    "\n",
    "threads = []\n",
    "\n",
    "for i, chunk in enumerate(chunks):\n",
    "    thread = multiprocessing.Process(\n",
    "        target=thread_classify_function,\n",
    "        args=(file_lock, results_lock, knn, chunk, total_correct, total_wrong),\n",
    "        name=f\"Thread {i}\"\n",
    "    )\n",
    "    threads.append(thread)\n",
    "    thread.start()\n",
    "\n",
    "for thread in threads:\n",
    "    thread.join()\n",
    "\n",
    "print(f\"Total time for all process: {time.time()-total_execution_start}s\")\n",
    "\n",
    "print(f\"{total_correct.value}/{total_tests} correct answers ({total_correct.value/total_tests*100}%)\")\n",
    "print(f\"{total_wrong.value}/{total_tests} wrong answers ({total_wrong.value/total_tests*100}%)\")"
   ]
  }
 ],
 "metadata": {
  "kernelspec": {
   "display_name": "Python 3 (ipykernel)",
   "language": "python",
   "name": "python3"
  },
  "language_info": {
   "codemirror_mode": {
    "name": "ipython",
    "version": 3
   },
   "file_extension": ".py",
   "mimetype": "text/x-python",
   "name": "python",
   "nbconvert_exporter": "python",
   "pygments_lexer": "ipython3",
   "version": "3.12.2"
  }
 },
 "nbformat": 4,
 "nbformat_minor": 5
}
