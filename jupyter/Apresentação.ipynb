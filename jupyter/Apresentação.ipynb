{
 "cells": [
  {
   "cell_type": "markdown",
   "id": "2a2b11f5-2c45-4477-8ee4-8763a2ef07a9",
   "metadata": {},
   "source": [
    "# Algoritmo KNN para classificação de Peças de LEGO!"
   ]
  },
  {
   "cell_type": "markdown",
   "id": "9d90748b-ff06-437a-a41e-730b96c97bca",
   "metadata": {},
   "source": [
    "## Imports"
   ]
  },
  {
   "cell_type": "code",
   "execution_count": 1,
   "id": "709c1703-97ca-4dcd-9652-cfa5d5a5127f",
   "metadata": {},
   "outputs": [
    {
     "name": "stdout",
     "output_type": "stream",
     "text": [
      "USE_NUMPY_ARRAY: False\n",
      "N_ROWS: 32\n",
      "N_COLUMNS: 32\n",
      "PREPROCESS_IMAGES: False\n",
      "N_THREADS: 4\n",
      "N_TESTS_USED: 100\n",
      "WORKSPACE: .\n",
      "DATASET_DIR: ./dataset\n",
      "IMAGES_DIR: ./dataset/dataset\n",
      "PROCESSED_IMAGES_PATH: ./dataset/dataset/_processed\n"
     ]
    }
   ],
   "source": [
    "import matplotlib.pyplot as plt\n",
    "import numpy as np\n",
    "import os\n",
    "import cv2\n",
    "import time\n",
    "\n",
    "from threading import Thread\n",
    "from threading import Lock\n",
    "\n",
    "import multiprocessing\n",
    "\n",
    "from sklearn.model_selection import train_test_split \n",
    "\n",
    "from src.Images import preprocess_images_from_dir\n",
    "from src.Images import get_all_images_path\n",
    "from src.Images import read_processed_image\n",
    "from src.Images import plot_image\n",
    "from src.Images import flatten_to_image\n",
    "\n",
    "from src.Distances import euclidean_distance\n",
    "from src.Distances import cosine_distance\n",
    "\n",
    "from src.Knn import Knn\n",
    "\n",
    "from src.Settings import *\n",
    "\n",
    "from src.Parallel import thread_classify_function\n",
    "from src.Parallel import split_data_into_chunks\n",
    "from src.Parallel import presentation_thread_classify_function\n",
    "\n",
    "print_all_settings()"
   ]
  },
  {
   "cell_type": "markdown",
   "id": "368e60ad-7d34-4c65-b14e-63a87f7d19f3",
   "metadata": {},
   "source": [
    "## Preprocessamento das imagens"
   ]
  },
  {
   "cell_type": "code",
   "execution_count": 2,
   "id": "851d2727-e87b-4f7f-81c7-8163c85ae7be",
   "metadata": {},
   "outputs": [],
   "source": [
    "if GlobalSettings.PREPROCESS_IMAGES:\n",
    "    ans = input(\"Are you sure you want to preprocess all images? [type 'yes']\")\n",
    "    if ans == \"yes\":\n",
    "        preprocess_images_from_dir(\n",
    "            dir_path=GlobalSettings.IMAGES_DIR, n_rows=GlobalSettings.N_ROWS,\n",
    "            n_columns=GlobalSettings.N_COLUMNS, extension=\"png\"\n",
    "        )"
   ]
  },
  {
   "cell_type": "markdown",
   "id": "616328d1-b7fc-4a30-ba41-8faa2a065b98",
   "metadata": {},
   "source": [
    "## Paths para as imagens preprocessadas"
   ]
  },
  {
   "cell_type": "code",
   "execution_count": 3,
   "id": "ef1f1bb0-b9d9-4e50-8dda-966fcaee0a13",
   "metadata": {},
   "outputs": [
    {
     "data": {
      "text/plain": [
       "['./dataset/dataset/_processed/14719 flat tile corner 2x2 000L.png',\n",
       " './dataset/dataset/_processed/14719 flat tile corner 2x2 000R.png',\n",
       " './dataset/dataset/_processed/14719 flat tile corner 2x2 001L.png']"
      ]
     },
     "execution_count": 3,
     "metadata": {},
     "output_type": "execute_result"
    }
   ],
   "source": [
    "images_path = get_all_images_path(GlobalSettings.PROCESSED_IMAGES_PATH)\n",
    "images_path[:3]"
   ]
  },
  {
   "cell_type": "markdown",
   "id": "e2abb447-2b2a-487d-9bb9-6d4340c1f0a9",
   "metadata": {},
   "source": [
    "## Organizando os dados"
   ]
  },
  {
   "cell_type": "code",
   "execution_count": 4,
   "id": "00bc39ea-34b4-47ab-9e43-fc4d7b26e04f",
   "metadata": {},
   "outputs": [],
   "source": [
    "data = [\n",
    "    (\n",
    "        int(path.split(\" \")[0].split(\"/\")[-1]),\n",
    "        read_processed_image(path, GlobalSettings.N_ROWS, GlobalSettings.N_COLUMNS).flatten()\n",
    "    ) for path in images_path\n",
    "] if GlobalSettings.USE_NUMPY_ARRAY else [\n",
    "    (\n",
    "        int(path.split(\" \")[0].split(\"/\")[-1]),\n",
    "        list(read_processed_image(path, GlobalSettings.N_ROWS, GlobalSettings.N_COLUMNS).flatten())\n",
    "    ) for path in images_path\n",
    "]\n",
    "\n",
    "\n",
    "y, x = zip(*data)\n",
    "x = list(x)\n",
    "y = list(y)"
   ]
  },
  {
   "cell_type": "markdown",
   "id": "f9e35645-f8b4-40bc-853f-b7c996a7df39",
   "metadata": {},
   "source": [
    "## Divisão em treino e teste"
   ]
  },
  {
   "cell_type": "code",
   "execution_count": 5,
   "id": "6b106fb7-5a55-4852-ad24-55fe13b9fc93",
   "metadata": {},
   "outputs": [],
   "source": [
    "x_train, x_test, y_train, y_test = train_test_split(x, y, test_size=0.3, random_state=42, shuffle=True)"
   ]
  },
  {
   "cell_type": "markdown",
   "id": "412cc3e6-9a8a-418f-b078-0dd6b6a05a23",
   "metadata": {},
   "source": [
    "## Treinando o modelo (adicionando os elementos conhecidos)"
   ]
  },
  {
   "cell_type": "code",
   "execution_count": 6,
   "id": "a63db8d3-e2cc-4361-8196-7064577448de",
   "metadata": {},
   "outputs": [
    {
     "name": "stdout",
     "output_type": "stream",
     "text": [
      "28000 points were added!\n"
     ]
    },
    {
     "data": {
      "text/plain": [
       "28000"
      ]
     },
     "execution_count": 6,
     "metadata": {},
     "output_type": "execute_result"
    }
   ],
   "source": [
    "knn = Knn()\n",
    "\n",
    "knn.add_points(list(zip(y_train, x_train)))"
   ]
  },
  {
   "cell_type": "markdown",
   "id": "46217612-7e08-4fd6-94ee-020a4f174a01",
   "metadata": {},
   "source": [
    "## Demonstração de imagem preprocessada"
   ]
  },
  {
   "cell_type": "code",
   "execution_count": 7,
   "id": "110f46f1-3a7f-49b1-8eaf-778a0a17a00c",
   "metadata": {},
   "outputs": [
    {
     "data": {
      "image/png": "[encoded data removed]",
      "text/plain": [
       "<Figure size 640x480 with 1 Axes>"
      ]
     },
     "metadata": {},
     "output_type": "display_data"
    }
   ],
   "source": [
    "plot_image(flatten_to_image(x_train[0], GlobalSettings.N_ROWS, GlobalSettings.N_COLUMNS))"
   ]
  },
  {
   "cell_type": "markdown",
   "id": "822cbb69-0dac-4f03-a13b-332abb6166c9",
   "metadata": {},
   "source": [
    "## Classificando conjunto de teste"
   ]
  },
  {
   "cell_type": "markdown",
   "id": "70eb41fd-49a6-4336-9223-8d7ba2fe08fc",
   "metadata": {},
   "source": [
    "### Python nativo X Numpy Array\n",
    "\n",
    "Como foi solicitado para o trabalho, para fazer o algoritmo Knn, não usamos bibliotecas que implementam tal classificação. Porém, devido a velocidade de processamento, optamos por demonstrar em exemplos menores a equivalencia dos resultados do algoritmo usando listas do Python e arrays do Numpy (é gritante a diferença).\n",
    "\n",
    "### Explicação\n",
    "\n",
    "Para começar, após o preprocessamento das imagens e a separação dos dados em conjuntos de treino e teste terem sido feito, a execução do algoritmo consiste em, dado um dado do conjunto de testes, informar para o algoritmo o vetor que representa a imagem desconhecida e então, a partir dela e de todas as imagens que o computador conhece, calcular a distância, usando uma métrica informada, para todos as imagens e usar as $N$ primeiras para determinar a possível classificação da imagem teste. No caso desse trabalho específico, foi solicitado $N=1$ sempre.\n",
    "\n",
    "Para o algoritmo de Knn funcionar precisamos determinar uma métrica a ser usada. Nesse trabalho foram usadas \"duas métricas\", sendo a primeira a distância euclidiana e a segunda, que não é exatamente uma métrica, a disância cosseno.\n",
    "\n",
    "A distância euclidiana é calculada usando a função:\n",
    "``` Python\n",
    "def euclidean_distance(point_a: list, point_b: list) -> float:\n",
    "    if GlobalSettings.USE_NUMPY_ARRAY:\n",
    "        return np.linalg.norm(point_a-point_b)\n",
    "    else:\n",
    "        if len(point_a) != len(point_b) or len(point_a) < 2:\n",
    "            return -1\n",
    "    \n",
    "        sum = 0\n",
    "        for i in range(len(point_a)):\n",
    "            sum += (point_a[i] - point_b[i]) ** 2\n",
    "    \n",
    "        return sqrt(sum)\n",
    "```\n",
    "Note que ela possui um desvio condicional baseado em um atributo chamado USE_NUMPY_ARRAY, que como o nome sugere, define se vai usar o método `np.linalg.norm` ou o modo manual para calcular. Dado os pontos $X=(x_1,x_2,\\dots,x_n)$ e $Y=(y_1,y_2,\\dots,y_n)$, a distancia euclidiana é definida como: \n",
    "$$\\sqrt{\\sum_{i=1}^{n} (x_i-y_i)^2}$$\n",
    "\n",
    "Já a distância cosseno, que não é exatamente uma métrica, é definida como:\n",
    "$$\\frac{\\sum_{i=1}^{n} x_iy_i}{\\sqrt{\\sum_{i=1}^{n} x_i^2} \\cdot \\sqrt{\\sum_{i=1}^{n} y_i^2}}$$\n",
    "\n",
    "Em código, ela fica da seguinte forma:\n",
    "\n",
    "``` Python\n",
    "def dot_product(point_a: list, point_b: list) -> float:\n",
    "    if len(point_a) != len(point_b) or len(point_a) < 2:\n",
    "        return -1\n",
    "\n",
    "    sum = 0\n",
    "    for i in range(len(point_a)):\n",
    "        sum += point_a[i] * point_b[i]\n",
    "\n",
    "    return sum\n",
    "\n",
    "def cosine_distance(point_a: list, point_b: list) -> float:\n",
    "    if GlobalSettings.USE_NUMPY_ARRAY:\n",
    "        return 1 - (\n",
    "            (np.dot(point_a,point_b))\n",
    "            / (np.sqrt(np.dot(point_a,point_a)) * np.sqrt(np.dot(point_b, point_b)))\n",
    "        )\n",
    "    else:\n",
    "        if len(point_a) != len(point_b) or len(point_a) < 2:\n",
    "            return -1\n",
    "    \n",
    "        return 1 - (\n",
    "            (dot_product(point_a, point_b))\n",
    "            / (sqrt(dot_product(point_a, point_a)) * sqrt(dot_product(point_b, point_b)))\n",
    "        )\n",
    "\n",
    "```\n",
    "\n",
    "Note novamente o desvio condicional para usar ou não os arrays do Numpy."
   ]
  },
  {
   "cell_type": "markdown",
   "id": "4115d3ff-5998-4557-9c9f-6518f251a00c",
   "metadata": {},
   "source": [
    "### Execução\n",
    "\n",
    "Primeiramente vamos executar a execução do algoritmo usando apenas os 100 primeiros testes apenas para validação da implementação.\n",
    "\n",
    "O programa usará multiprocessamento e as listas nativas do python."
   ]
  },
  {
   "cell_type": "code",
   "execution_count": 8,
   "id": "578796b4-63d5-4cba-bb94-15e8c716b759",
   "metadata": {},
   "outputs": [
    {
     "name": "stdout",
     "output_type": "stream",
     "text": [
      "Alguns resultados:\n",
      "Certo: 4274; Respondido: 4274; Acertou: True; Tempo de processamento: 7.382457733154297s\n",
      "Certo: 3070; Respondido: 3069; Acertou: False; Tempo de processamento: 7.32975172996521s\n",
      "Certo: 27925; Respondido: 27925; Acertou: True; Tempo de processamento: 7.513664960861206s\n",
      "\n",
      "Tempo de execução Thread 3: 216.2150104045868s\n",
      "\n",
      "Alguns resultados:\n",
      "Certo: 4286; Respondido: 3623; Acertou: False; Tempo de processamento: 7.466490030288696s\n",
      "Certo: 3039; Respondido: 3045; Acertou: False; Tempo de processamento: 7.42849326133728s\n",
      "Certo: 3700; Respondido: 85984; Acertou: False; Tempo de processamento: 7.446035385131836s\n",
      "\n",
      "Tempo de execução Thread 0: 216.5107831954956s\n",
      "\n",
      "Alguns resultados:\n",
      "Certo: 3001; Respondido: 3001; Acertou: True; Tempo de processamento: 7.691523790359497s\n",
      "Certo: 3020; Respondido: 3039; Acertou: False; Tempo de processamento: 7.42374324798584s\n",
      "Certo: 3068; Respondido: 33909; Acertou: False; Tempo de processamento: 7.654798269271851s\n",
      "\n",
      "Tempo de execução Thread 2: 217.37621331214905s\n",
      "\n",
      "Alguns resultados:\n",
      "Certo: 4490; Respondido: 4490; Acertou: True; Tempo de processamento: 7.761706829071045s\n",
      "Certo: 43093; Respondido: 43093; Acertou: True; Tempo de processamento: 7.574259281158447s\n",
      "Certo: 3068; Respondido: 3068; Acertou: True; Tempo de processamento: 7.815711736679077s\n",
      "\n",
      "Tempo de execução Thread 1: 221.65534019470215s\n",
      "\n",
      "Tempo total de todo o processo: 221.75739574432373s\n",
      "53/100 respostas corretas (53.0%)\n",
      "47/100 respostas erradas (47.0%)\n"
     ]
    }
   ],
   "source": [
    "file_lock = Lock()\n",
    "results_lock = Lock()\n",
    "\n",
    "total_correct = multiprocessing.Value('i', 0)\n",
    "total_wrong = multiprocessing.Value('i', 0)\n",
    "tests_to_be_used = 100\n",
    "\n",
    "test_data = list(zip(x_test[:tests_to_be_used], y_test[:tests_to_be_used]))\n",
    "total_tests = len(test_data)\n",
    "\n",
    "chunks = split_data_into_chunks(test_data, GlobalSettings.N_THREADS)\n",
    "\n",
    "total_execution_start = time.time()\n",
    "\n",
    "threads = []\n",
    "\n",
    "for i, chunk in enumerate(chunks):\n",
    "    thread = multiprocessing.Process(\n",
    "        target=presentation_thread_classify_function,\n",
    "        args=(file_lock, results_lock, knn, chunk, total_correct, total_wrong),\n",
    "        name=f\"Thread {i}\"\n",
    "    )\n",
    "    threads.append(thread)\n",
    "    thread.start()\n",
    "\n",
    "for thread in threads:\n",
    "    thread.join()\n",
    "\n",
    "print(f\"Tempo total de todo o processo: {time.time()-total_execution_start}s\")\n",
    "\n",
    "print(f\"{total_correct.value}/{total_tests} respostas corretas ({total_correct.value/total_tests*100}%)\")\n",
    "print(f\"{total_wrong.value}/{total_tests} respostas erradas ({total_wrong.value/total_tests*100}%)\")"
   ]
  },
  {
   "cell_type": "markdown",
   "id": "36522468-1a7f-4885-999b-d76df3c07d1b",
   "metadata": {},
   "source": [
    "--------------------------------\n",
    "Agora vamos repetir o mesmo processo, porém usando os arrays da biblioteca Numpy.\n",
    "\n",
    "Note que zeramos os valores de acertos e erros, além de definir a variável `USE_NUMPY_ARRAY` para verdadeiro."
   ]
  },
  {
   "cell_type": "code",
   "execution_count": 9,
   "id": "136f2e19-7a21-4b2b-a819-07872e7cbaba",
   "metadata": {},
   "outputs": [
    {
     "name": "stdout",
     "output_type": "stream",
     "text": [
      "0/100 respostas corretas (0.0%)\n",
      "0/100 respostas erradas (0.0%)\n",
      "28000 points were added!\n"
     ]
    },
    {
     "data": {
      "text/plain": [
       "28000"
      ]
     },
     "execution_count": 9,
     "metadata": {},
     "output_type": "execute_result"
    }
   ],
   "source": [
    "GlobalSettings.USE_NUMPY_ARRAY = True\n",
    "total_correct.value = 0\n",
    "total_wrong.value = 0\n",
    "\n",
    "print(f\"{total_correct.value}/{total_tests} respostas corretas ({total_correct.value/total_tests*100}%)\")\n",
    "print(f\"{total_wrong.value}/{total_tests} respostas erradas ({total_wrong.value/total_tests*100}%)\")\n",
    "\n",
    "data = [\n",
    "    (\n",
    "        int(path.split(\" \")[0].split(\"/\")[-1]),\n",
    "        read_processed_image(path, GlobalSettings.N_ROWS, GlobalSettings.N_COLUMNS).flatten()\n",
    "    ) for path in images_path\n",
    "] \n",
    "\n",
    "y, x = zip(*data)\n",
    "x = list(x)\n",
    "y = list(y)\n",
    "\n",
    "x_train, x_test, y_train, y_test = train_test_split(x, y, test_size=0.3, random_state=42, shuffle=True)\n",
    "\n",
    "knn.clear()\n",
    "\n",
    "knn.add_points(list(zip(y_train, x_train)))"
   ]
  },
  {
   "cell_type": "code",
   "execution_count": 10,
   "id": "0204a458-0694-45e8-ba49-ec7e2e96402f",
   "metadata": {},
   "outputs": [
    {
     "name": "stdout",
     "output_type": "stream",
     "text": [
      "Alguns resultados:\n",
      "Certo: 4286; Respondido: 3623; Acertou: False; Tempo de processamento: 0.1757955551147461s\n",
      "Certo: 3039; Respondido: 3045; Acertou: False; Tempo de processamento: 0.15875244140625s\n",
      "Certo: 3700; Respondido: 85984; Acertou: False; Tempo de processamento: 0.15701532363891602s\n",
      "\n",
      "Tempo de execução Thread 0: 4.020031452178955s\n",
      "\n",
      "Alguns resultados:\n",
      "Certo: 3001; Respondido: 3001; Acertou: True; Tempo de processamento: 0.18378734588623047s\n",
      "Certo: 3020; Respondido: 3039; Acertou: False; Tempo de processamento: 0.15672659873962402s\n",
      "Certo: 3068; Respondido: 33909; Acertou: False; Tempo de processamento: 0.15659737586975098s\n",
      "\n",
      "Tempo de execução Thread 2: 4.014650344848633s\n",
      "\n",
      "Alguns resultados:\n",
      "Certo: 4274; Respondido: 4274; Acertou: True; Tempo de processamento: 0.18352556228637695s\n",
      "Certo: 3070; Respondido: 3069; Acertou: False; Tempo de processamento: 0.15662670135498047s\n",
      "Certo: 27925; Respondido: 27925; Acertou: True; Tempo de processamento: 0.15530085563659668s\n",
      "\n",
      "Tempo de execução Thread 3: 4.025213718414307s\n",
      "\n",
      "Alguns resultados:\n",
      "Certo: 4490; Respondido: 4490; Acertou: True; Tempo de processamento: 0.18384671211242676s\n",
      "Certo: 43093; Respondido: 43093; Acertou: True; Tempo de processamento: 0.15964531898498535s\n",
      "Certo: 3068; Respondido: 3068; Acertou: True; Tempo de processamento: 0.16167807579040527s\n",
      "\n",
      "Tempo de execução Thread 1: 4.076910972595215s\n",
      "\n",
      "Tempo total de todo o processo: 4.119695663452148s\n",
      "53/100 respostas corretas (53.0%)\n",
      "47/100 respostas erradas (47.0%)\n"
     ]
    }
   ],
   "source": [
    "tests_to_be_used = 100\n",
    "total_correct.value = 0\n",
    "total_wrong.value = 0\n",
    "\n",
    "test_data = list(zip(x_test[:tests_to_be_used], y_test[:tests_to_be_used]))\n",
    "total_tests = len(test_data)\n",
    "\n",
    "chunks = split_data_into_chunks(test_data, GlobalSettings.N_THREADS)\n",
    "\n",
    "total_execution_start = time.time()\n",
    "\n",
    "threads = []\n",
    "\n",
    "for i, chunk in enumerate(chunks):\n",
    "    thread = multiprocessing.Process(\n",
    "        target=presentation_thread_classify_function,\n",
    "        args=(file_lock, results_lock, knn, chunk, total_correct, total_wrong),\n",
    "        name=f\"Thread {i}\"\n",
    "    )\n",
    "    threads.append(thread)\n",
    "    thread.start()\n",
    "\n",
    "for thread in threads:\n",
    "    thread.join()\n",
    "\n",
    "print(f\"Tempo total de todo o processo: {time.time()-total_execution_start}s\")\n",
    "\n",
    "print(f\"{total_correct.value}/{total_tests} respostas corretas ({total_correct.value/total_tests*100}%)\")\n",
    "print(f\"{total_wrong.value}/{total_tests} respostas erradas ({total_wrong.value/total_tests*100}%)\")"
   ]
  },
  {
   "cell_type": "markdown",
   "id": "f12e4b56-9870-4ca4-8cbd-d8bbdb17fc80",
   "metadata": {},
   "source": [
    "Como é possível de observar, o tempo de processamento caiu de cerca de 200 segundos, usando as listas nativas do python, para menos de 4 segundos usando os arrays do Numpy, isso considerando que não usamos nem 1% dos dados de teste (100/12000). \n",
    "\n",
    "Além de observar o tempo de execução, podemos notar que o resultado é exatamente o mesmo, o que significa que nossa implementação está correta. Portanto, com objetivo de mostrar os resultados obtidos para mais casos de teste, vamos usar o Numpy daqui em diante."
   ]
  },
  {
   "cell_type": "markdown",
   "id": "5376b4e4-3df6-4bd7-a580-0c5bf29fd977",
   "metadata": {},
   "source": [
    "## Teste distância euclidiana (3000 testes)"
   ]
  },
  {
   "cell_type": "code",
   "execution_count": 11,
   "id": "620aa6c7-68ee-4bc4-950e-ecc57762fca3",
   "metadata": {},
   "outputs": [
    {
     "name": "stdout",
     "output_type": "stream",
     "text": [
      "Alguns resultados:\n",
      "Certo: 3002; Respondido: 3002; Acertou: True; Tempo de processamento: 0.18437504768371582s\n",
      "Certo: 41678; Respondido: 3700; Acertou: False; Tempo de processamento: 0.1558983325958252s\n",
      "Certo: 6143; Respondido: 6143; Acertou: True; Tempo de processamento: 0.15538358688354492s\n",
      "\n",
      "Tempo de execução Thread 1: 126.15400576591492s\n",
      "\n",
      "Alguns resultados:\n",
      "Certo: 3005; Respondido: 3005; Acertou: True; Tempo de processamento: 0.18725848197937012s\n",
      "Certo: 4150; Respondido: 4150; Acertou: True; Tempo de processamento: 0.15790438652038574s\n",
      "Certo: 54200; Respondido: 3024; Acertou: False; Tempo de processamento: 0.15829968452453613s\n",
      "\n",
      "Tempo de execução Thread 2: 127.09284448623657s\n",
      "\n",
      "Alguns resultados:\n",
      "Certo: 4286; Respondido: 3623; Acertou: False; Tempo de processamento: 0.18506503105163574s\n",
      "Certo: 3039; Respondido: 3045; Acertou: False; Tempo de processamento: 0.16111516952514648s\n",
      "Certo: 3700; Respondido: 85984; Acertou: False; Tempo de processamento: 0.16130328178405762s\n",
      "\n",
      "Tempo de execução Thread 0: 127.76438164710999s\n",
      "\n",
      "Alguns resultados:\n",
      "Certo: 85984; Respondido: 3023; Acertou: False; Tempo de processamento: 0.18773913383483887s\n",
      "Certo: 3298; Respondido: 3298; Acertou: True; Tempo de processamento: 0.15903139114379883s\n",
      "Certo: 3062; Respondido: 3062; Acertou: True; Tempo de processamento: 0.1591660976409912s\n",
      "\n",
      "Tempo de execução Thread 3: 128.0892903804779s\n",
      "\n",
      "Tempo total de todo o processo: 128.15685844421387s\n",
      "1759/3000 respostas corretas (58.63333333333334%)\n",
      "1241/3000 respostas erradas (41.36666666666667%)\n"
     ]
    }
   ],
   "source": [
    "GlobalSettings.LOG_FILE_NAME = \"3000_distancia_euclidiana.csv\"\n",
    "tests_to_be_used = 3000\n",
    "total_correct.value = 0\n",
    "total_wrong.value = 0\n",
    "\n",
    "test_data = list(zip(x_test[:tests_to_be_used], y_test[:tests_to_be_used]))\n",
    "total_tests = len(test_data)\n",
    "\n",
    "chunks = split_data_into_chunks(test_data, GlobalSettings.N_THREADS)\n",
    "\n",
    "total_execution_start = time.time()\n",
    "\n",
    "threads = []\n",
    "\n",
    "for i, chunk in enumerate(chunks):\n",
    "    thread = multiprocessing.Process(\n",
    "        target=presentation_thread_classify_function,\n",
    "        args=(file_lock, results_lock, knn, chunk, total_correct, total_wrong),\n",
    "        name=f\"Thread {i}\"\n",
    "    )\n",
    "    threads.append(thread)\n",
    "    thread.start()\n",
    "\n",
    "for thread in threads:\n",
    "    thread.join()\n",
    "\n",
    "print(f\"Tempo total de todo o processo: {time.time()-total_execution_start}s\")\n",
    "\n",
    "print(f\"{total_correct.value}/{total_tests} respostas corretas ({total_correct.value/total_tests*100}%)\")\n",
    "print(f\"{total_wrong.value}/{total_tests} respostas erradas ({total_wrong.value/total_tests*100}%)\")"
   ]
  },
  {
   "cell_type": "markdown",
   "id": "5ee0a221-b220-4382-b043-a174ba432443",
   "metadata": {},
   "source": [
    "## Teste distância cosseno (3000 testes)"
   ]
  },
  {
   "cell_type": "code",
   "execution_count": 13,
   "id": "e69b188b-deb6-4ba9-992d-1e6fca4c9440",
   "metadata": {},
   "outputs": [
    {
     "name": "stdout",
     "output_type": "stream",
     "text": [
      "Alguns resultados:\n",
      "Certo: 3002; Respondido: 3002; Acertou: True; Tempo de processamento: 0.24074268341064453s\n",
      "Certo: 41678; Respondido: 3040; Acertou: False; Tempo de processamento: 0.2104034423828125s\n",
      "Certo: 6143; Respondido: 6143; Acertou: True; Tempo de processamento: 0.2130730152130127s\n",
      "\n",
      "Tempo de execução Thread 1: 190.48474025726318s\n",
      "\n",
      "Alguns resultados:\n",
      "Certo: 85984; Respondido: 3023; Acertou: False; Tempo de processamento: 0.24415946006774902s\n",
      "Certo: 3298; Respondido: 3298; Acertou: True; Tempo de processamento: 0.21785902976989746s\n",
      "Certo: 3062; Respondido: 3062; Acertou: True; Tempo de processamento: 0.21058869361877441s\n",
      "\n",
      "Tempo de execução Thread 3: 192.81206345558167s\n",
      "\n",
      "Alguns resultados:\n",
      "Certo: 3005; Respondido: 3005; Acertou: True; Tempo de processamento: 0.24324250221252441s\n",
      "Certo: 4150; Respondido: 4150; Acertou: True; Tempo de processamento: 0.20711493492126465s\n",
      "Certo: 54200; Respondido: 3024; Acertou: False; Tempo de processamento: 0.20903921127319336s\n",
      "\n",
      "Tempo de execução Thread 2: 194.74223375320435s\n",
      "\n",
      "Alguns resultados:\n",
      "Certo: 4286; Respondido: 3623; Acertou: False; Tempo de processamento: 0.23671817779541016s\n",
      "Certo: 3039; Respondido: 3045; Acertou: False; Tempo de processamento: 0.21448087692260742s\n",
      "Certo: 3700; Respondido: 85984; Acertou: False; Tempo de processamento: 0.2113046646118164s\n",
      "\n",
      "Tempo de execução Thread 0: 194.85054111480713s\n",
      "\n",
      "Tempo total de todo o processo: 194.88416504859924s\n",
      "1732/3000 respostas corretas (57.733333333333334%)\n",
      "1268/3000 respostas erradas (42.266666666666666%)\n"
     ]
    }
   ],
   "source": [
    "GlobalSettings.LOG_FILE_NAME = \"3000_distancia_cosseno.csv\"\n",
    "tests_to_be_used = 3000\n",
    "total_correct.value = 0\n",
    "total_wrong.value = 0\n",
    "\n",
    "test_data = list(zip(x_test[:tests_to_be_used], y_test[:tests_to_be_used]))\n",
    "total_tests = len(test_data)\n",
    "\n",
    "chunks = split_data_into_chunks(test_data, GlobalSettings.N_THREADS)\n",
    "\n",
    "total_execution_start = time.time()\n",
    "\n",
    "threads = []\n",
    "\n",
    "for i, chunk in enumerate(chunks):\n",
    "    thread = multiprocessing.Process(\n",
    "        target=presentation_thread_classify_function,\n",
    "        args=(file_lock, results_lock, knn, chunk, total_correct, total_wrong, cosine_distance),\n",
    "        name=f\"Thread {i}\"\n",
    "    )\n",
    "    threads.append(thread)\n",
    "    thread.start()\n",
    "\n",
    "for thread in threads:\n",
    "    thread.join()\n",
    "\n",
    "print(f\"Tempo total de todo o processo: {time.time()-total_execution_start}s\")\n",
    "\n",
    "print(f\"{total_correct.value}/{total_tests} respostas corretas ({total_correct.value/total_tests*100}%)\")\n",
    "print(f\"{total_wrong.value}/{total_tests} respostas erradas ({total_wrong.value/total_tests*100}%)\")"
   ]
  },
  {
   "cell_type": "markdown",
   "id": "d5894b06-6fd9-47a0-8edc-6f905675cedc",
   "metadata": {},
   "source": [
    "## Teste distância euclidiana (6000 testes)"
   ]
  },
  {
   "cell_type": "code",
   "execution_count": 14,
   "id": "fc649bb9-8c51-4491-86e2-6d68c7a00327",
   "metadata": {},
   "outputs": [
    {
     "name": "stdout",
     "output_type": "stream",
     "text": [
      "Alguns resultados:\n",
      "Certo: 3046; Respondido: 3003; Acertou: False; Tempo de processamento: 0.18693089485168457s\n",
      "Certo: 3004; Respondido: 6143; Acertou: False; Tempo de processamento: 0.1571817398071289s\n",
      "Certo: 4274; Respondido: 4274; Acertou: True; Tempo de processamento: 0.16055989265441895s\n",
      "\n",
      "Tempo de execução Thread 2: 283.64205861091614s\n",
      "\n",
      "Alguns resultados:\n",
      "Certo: 4490; Respondido: 3700; Acertou: False; Tempo de processamento: 0.18185806274414062s\n",
      "Certo: 3659; Respondido: 3659; Acertou: True; Tempo de processamento: 0.15401053428649902s\n",
      "Certo: 4274; Respondido: 4274; Acertou: True; Tempo de processamento: 0.15552139282226562s\n",
      "\n",
      "Tempo de execução Thread 3: 284.4121947288513s\n",
      "\n",
      "Alguns resultados:\n",
      "Certo: 4286; Respondido: 3623; Acertou: False; Tempo de processamento: 0.1861889362335205s\n",
      "Certo: 3039; Respondido: 3045; Acertou: False; Tempo de processamento: 0.16106915473937988s\n",
      "Certo: 3700; Respondido: 85984; Acertou: False; Tempo de processamento: 0.1606767177581787s\n",
      "\n",
      "Tempo de execução Thread 0: 286.32320857048035s\n",
      "\n",
      "Alguns resultados:\n",
      "Certo: 3005; Respondido: 3005; Acertou: True; Tempo de processamento: 0.1871030330657959s\n",
      "Certo: 4150; Respondido: 4150; Acertou: True; Tempo de processamento: 0.1618037223815918s\n",
      "Certo: 54200; Respondido: 3024; Acertou: False; Tempo de processamento: 0.16251468658447266s\n",
      "\n",
      "Tempo de execução Thread 1: 287.23223662376404s\n",
      "\n",
      "Tempo total de todo o processo: 287.28555488586426s\n",
      "3483/6000 respostas corretas (58.050000000000004%)\n",
      "2517/6000 respostas erradas (41.949999999999996%)\n"
     ]
    }
   ],
   "source": [
    "GlobalSettings.LOG_FILE_NAME = \"6000_distancia_euclidiana.csv\"\n",
    "tests_to_be_used = 6000\n",
    "total_correct.value = 0\n",
    "total_wrong.value = 0\n",
    "\n",
    "test_data = list(zip(x_test[:tests_to_be_used], y_test[:tests_to_be_used]))\n",
    "total_tests = len(test_data)\n",
    "\n",
    "chunks = split_data_into_chunks(test_data, GlobalSettings.N_THREADS)\n",
    "\n",
    "total_execution_start = time.time()\n",
    "\n",
    "threads = []\n",
    "\n",
    "for i, chunk in enumerate(chunks):\n",
    "    thread = multiprocessing.Process(\n",
    "        target=presentation_thread_classify_function,\n",
    "        args=(file_lock, results_lock, knn, chunk, total_correct, total_wrong),\n",
    "        name=f\"Thread {i}\"\n",
    "    )\n",
    "    threads.append(thread)\n",
    "    thread.start()\n",
    "\n",
    "for thread in threads:\n",
    "    thread.join()\n",
    "\n",
    "print(f\"Tempo total de todo o processo: {time.time()-total_execution_start}s\")\n",
    "\n",
    "print(f\"{total_correct.value}/{total_tests} respostas corretas ({total_correct.value/total_tests*100}%)\")\n",
    "print(f\"{total_wrong.value}/{total_tests} respostas erradas ({total_wrong.value/total_tests*100}%)\")"
   ]
  },
  {
   "cell_type": "markdown",
   "id": "ab3f399c-08f0-46ec-80ef-40691745a568",
   "metadata": {},
   "source": [
    "## Teste distância cosseno (6000 testes)"
   ]
  },
  {
   "cell_type": "code",
   "execution_count": 15,
   "id": "0489bd22-4d35-4b18-80d2-e158e280d9b6",
   "metadata": {},
   "outputs": [
    {
     "name": "stdout",
     "output_type": "stream",
     "text": [
      "Alguns resultados:\n",
      "Certo: 3046; Respondido: 3003; Acertou: False; Tempo de processamento: 0.30788516998291016s\n",
      "Certo: 3004; Respondido: 6143; Acertou: False; Tempo de processamento: 0.2747924327850342s\n",
      "Certo: 4274; Respondido: 4274; Acertou: True; Tempo de processamento: 0.27287936210632324s\n",
      "\n",
      "Tempo de execução Thread 2: 404.32582998275757s\n",
      "\n",
      "Alguns resultados:\n",
      "Certo: 4490; Respondido: 3700; Acertou: False; Tempo de processamento: 0.31470274925231934s\n",
      "Certo: 3659; Respondido: 3659; Acertou: True; Tempo de processamento: 0.2682507038116455s\n",
      "Certo: 4274; Respondido: 4274; Acertou: True; Tempo de processamento: 0.2641115188598633s\n",
      "\n",
      "Tempo de execução Thread 3: 409.65589118003845s\n",
      "\n",
      "Alguns resultados:\n",
      "Certo: 4286; Respondido: 3623; Acertou: False; Tempo de processamento: 0.3170814514160156s\n",
      "Certo: 3039; Respondido: 3045; Acertou: False; Tempo de processamento: 0.2831301689147949s\n",
      "Certo: 3700; Respondido: 85984; Acertou: False; Tempo de processamento: 0.26642441749572754s\n",
      "\n",
      "Tempo de execução Thread 0: 409.99027705192566s\n",
      "\n",
      "Alguns resultados:\n",
      "Certo: 3005; Respondido: 3005; Acertou: True; Tempo de processamento: 0.30573248863220215s\n",
      "Certo: 4150; Respondido: 4150; Acertou: True; Tempo de processamento: 0.270322322845459s\n",
      "Certo: 54200; Respondido: 3024; Acertou: False; Tempo de processamento: 0.27065157890319824s\n",
      "\n",
      "Tempo de execução Thread 1: 410.41886854171753s\n",
      "\n",
      "Tempo total de todo o processo: 410.47227025032043s\n",
      "3421/6000 respostas corretas (57.01666666666667%)\n",
      "2579/6000 respostas erradas (42.983333333333334%)\n"
     ]
    }
   ],
   "source": [
    "GlobalSettings.LOG_FILE_NAME = \"6000_distancia_cosseno.csv\"\n",
    "tests_to_be_used = 6000\n",
    "total_correct.value = 0\n",
    "total_wrong.value = 0\n",
    "\n",
    "test_data = list(zip(x_test[:tests_to_be_used], y_test[:tests_to_be_used]))\n",
    "total_tests = len(test_data)\n",
    "\n",
    "chunks = split_data_into_chunks(test_data, GlobalSettings.N_THREADS)\n",
    "\n",
    "total_execution_start = time.time()\n",
    "\n",
    "threads = []\n",
    "\n",
    "for i, chunk in enumerate(chunks):\n",
    "    thread = multiprocessing.Process(\n",
    "        target=presentation_thread_classify_function,\n",
    "        args=(file_lock, results_lock, knn, chunk, total_correct, total_wrong, cosine_distance),\n",
    "        name=f\"Thread {i}\"\n",
    "    )\n",
    "    threads.append(thread)\n",
    "    thread.start()\n",
    "\n",
    "for thread in threads:\n",
    "    thread.join()\n",
    "\n",
    "print(f\"Tempo total de todo o processo: {time.time()-total_execution_start}s\")\n",
    "\n",
    "print(f\"{total_correct.value}/{total_tests} respostas corretas ({total_correct.value/total_tests*100}%)\")\n",
    "print(f\"{total_wrong.value}/{total_tests} respostas erradas ({total_wrong.value/total_tests*100}%)\")"
   ]
  },
  {
   "cell_type": "markdown",
   "id": "229aa611-587f-4fea-a445-d25e73e5592e",
   "metadata": {},
   "source": [
    "## Teste distância euclidiana (12000 testes)"
   ]
  },
  {
   "cell_type": "code",
   "execution_count": 16,
   "id": "4d243c3f-c1d4-49a6-a16e-8b840d8e8065",
   "metadata": {},
   "outputs": [
    {
     "name": "stdout",
     "output_type": "stream",
     "text": [
      "Alguns resultados:\n",
      "Certo: 3069; Respondido: 3069; Acertou: True; Tempo de processamento: 0.13878154754638672s\n",
      "Certo: 3020; Respondido: 3020; Acertou: True; Tempo de processamento: 0.11588573455810547s\n",
      "Certo: 3022; Respondido: 3021; Acertou: False; Tempo de processamento: 0.12154960632324219s\n",
      "\n",
      "Tempo de execução Thread 2: 550.96955037117s\n",
      "\n",
      "Alguns resultados:\n",
      "Certo: 3046; Respondido: 3003; Acertou: False; Tempo de processamento: 0.13966631889343262s\n",
      "Certo: 3004; Respondido: 6143; Acertou: False; Tempo de processamento: 0.11950349807739258s\n",
      "Certo: 4274; Respondido: 4274; Acertou: True; Tempo de processamento: 0.11776518821716309s\n",
      "\n",
      "Tempo de execução Thread 1: 556.9268023967743s\n",
      "\n",
      "Alguns resultados:\n",
      "Certo: 4286; Respondido: 3623; Acertou: False; Tempo de processamento: 0.14052367210388184s\n",
      "Certo: 3039; Respondido: 3045; Acertou: False; Tempo de processamento: 0.11614751815795898s\n",
      "Certo: 3700; Respondido: 85984; Acertou: False; Tempo de processamento: 0.12095046043395996s\n",
      "\n",
      "Tempo de execução Thread 0: 563.2181053161621s\n",
      "\n",
      "Alguns resultados:\n",
      "Certo: 41677; Respondido: 3070; Acertou: False; Tempo de processamento: 0.15515732765197754s\n",
      "Certo: 3021; Respondido: 3003; Acertou: False; Tempo de processamento: 0.11754179000854492s\n",
      "Certo: 4150; Respondido: 4150; Acertou: True; Tempo de processamento: 0.1206357479095459s\n",
      "\n",
      "Tempo de execução Thread 3: 571.5138444900513s\n",
      "\n",
      "Tempo total de todo o processo: 571.5910305976868s\n",
      "6989/12000 respostas corretas (58.24166666666667%)\n",
      "5011/12000 respostas erradas (41.75833333333333%)\n"
     ]
    }
   ],
   "source": [
    "GlobalSettings.LOG_FILE_NAME = \"12000_distancia_euclidiana.csv\"\n",
    "tests_to_be_used = 12000\n",
    "total_correct.value = 0\n",
    "total_wrong.value = 0\n",
    "\n",
    "test_data = list(zip(x_test[:tests_to_be_used], y_test[:tests_to_be_used]))\n",
    "total_tests = len(test_data)\n",
    "\n",
    "chunks = split_data_into_chunks(test_data, GlobalSettings.N_THREADS)\n",
    "\n",
    "total_execution_start = time.time()\n",
    "\n",
    "threads = []\n",
    "\n",
    "for i, chunk in enumerate(chunks):\n",
    "    thread = multiprocessing.Process(\n",
    "        target=presentation_thread_classify_function,\n",
    "        args=(file_lock, results_lock, knn, chunk, total_correct, total_wrong),\n",
    "        name=f\"Thread {i}\"\n",
    "    )\n",
    "    threads.append(thread)\n",
    "    thread.start()\n",
    "\n",
    "for thread in threads:\n",
    "    thread.join()\n",
    "\n",
    "print(f\"Tempo total de todo o processo: {time.time()-total_execution_start}s\")\n",
    "\n",
    "print(f\"{total_correct.value}/{total_tests} respostas corretas ({total_correct.value/total_tests*100}%)\")\n",
    "print(f\"{total_wrong.value}/{total_tests} respostas erradas ({total_wrong.value/total_tests*100}%)\")"
   ]
  },
  {
   "cell_type": "markdown",
   "id": "50496624-b72b-4d16-a047-95e3b82cc0f4",
   "metadata": {},
   "source": [
    "## Teste distância cosseno (12000 testes)"
   ]
  },
  {
   "cell_type": "code",
   "execution_count": 17,
   "id": "69f2c1ff-07fe-4c8e-a036-7d6e7abf53c0",
   "metadata": {},
   "outputs": [
    {
     "name": "stdout",
     "output_type": "stream",
     "text": [
      "Alguns resultados:\n",
      "Certo: 3069; Respondido: 3794; Acertou: False; Tempo de processamento: 0.28885364532470703s\n",
      "Certo: 3020; Respondido: 3020; Acertou: True; Tempo de processamento: 0.30206990242004395s\n",
      "Certo: 3022; Respondido: 3021; Acertou: False; Tempo de processamento: 0.25690460205078125s\n",
      "\n",
      "Tempo de execução Thread 2: 769.9398264884949s\n",
      "\n",
      "Alguns resultados:\n",
      "Certo: 3046; Respondido: 3003; Acertou: False; Tempo de processamento: 0.28171658515930176s\n",
      "Certo: 3004; Respondido: 6143; Acertou: False; Tempo de processamento: 0.30748462677001953s\n",
      "Certo: 4274; Respondido: 4274; Acertou: True; Tempo de processamento: 0.25999975204467773s\n",
      "\n",
      "Tempo de execução Thread 1: 770.3293492794037s\n",
      "\n",
      "Alguns resultados:\n",
      "Certo: 4286; Respondido: 3623; Acertou: False; Tempo de processamento: 0.2816183567047119s\n",
      "Certo: 3039; Respondido: 3045; Acertou: False; Tempo de processamento: 0.2997307777404785s\n",
      "Certo: 3700; Respondido: 85984; Acertou: False; Tempo de processamento: 0.26110053062438965s\n",
      "\n",
      "Tempo de execução Thread 0: 777.7495532035828s\n",
      "\n",
      "Alguns resultados:\n",
      "Certo: 41677; Respondido: 18654; Acertou: False; Tempo de processamento: 0.27664804458618164s\n",
      "Certo: 3021; Respondido: 3298; Acertou: False; Tempo de processamento: 0.2900211811065674s\n",
      "Certo: 4150; Respondido: 4150; Acertou: True; Tempo de processamento: 0.25295090675354004s\n",
      "\n",
      "Tempo de execução Thread 3: 786.4971151351929s\n",
      "\n",
      "Tempo total de todo o processo: 786.5769429206848s\n",
      "6835/12000 respostas corretas (56.958333333333336%)\n",
      "5165/12000 respostas erradas (43.041666666666664%)\n"
     ]
    }
   ],
   "source": [
    "GlobalSettings.LOG_FILE_NAME = \"12000_distancia_cosseno.csv\"\n",
    "tests_to_be_used = 12000\n",
    "total_correct.value = 0\n",
    "total_wrong.value = 0\n",
    "\n",
    "test_data = list(zip(x_test[:tests_to_be_used], y_test[:tests_to_be_used]))\n",
    "total_tests = len(test_data)\n",
    "\n",
    "chunks = split_data_into_chunks(test_data, GlobalSettings.N_THREADS)\n",
    "\n",
    "total_execution_start = time.time()\n",
    "\n",
    "threads = []\n",
    "\n",
    "for i, chunk in enumerate(chunks):\n",
    "    thread = multiprocessing.Process(\n",
    "        target=presentation_thread_classify_function,\n",
    "        args=(file_lock, results_lock, knn, chunk, total_correct, total_wrong, cosine_distance),\n",
    "        name=f\"Thread {i}\"\n",
    "    )\n",
    "    threads.append(thread)\n",
    "    thread.start()\n",
    "\n",
    "for thread in threads:\n",
    "    thread.join()\n",
    "\n",
    "print(f\"Tempo total de todo o processo: {time.time()-total_execution_start}s\")\n",
    "\n",
    "print(f\"{total_correct.value}/{total_tests} respostas corretas ({total_correct.value/total_tests*100}%)\")\n",
    "print(f\"{total_wrong.value}/{total_tests} respostas erradas ({total_wrong.value/total_tests*100}%)\")"
   ]
  }
 ],
 "metadata": {
  "kernelspec": {
   "display_name": "Python 3 (ipykernel)",
   "language": "python",
   "name": "python3"
  },
  "language_info": {
   "codemirror_mode": {
    "name": "ipython",
    "version": 3
   },
   "file_extension": ".py",
   "mimetype": "text/x-python",
   "name": "python",
   "nbconvert_exporter": "python",
   "pygments_lexer": "ipython3",
   "version": "3.12.4"
  }
 },
 "nbformat": 4,
 "nbformat_minor": 5
}
