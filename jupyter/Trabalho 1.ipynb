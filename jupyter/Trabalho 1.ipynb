{
 "cells": [
  {
   "cell_type": "code",
   "execution_count": 1,
   "id": "658cebfe-9af7-4786-b037-3dd6fec90fbc",
   "metadata": {},
   "outputs": [],
   "source": [
    "import matplotlib.pyplot as plt\n",
    "import numpy as np\n",
    "import os\n",
    "import cv2\n",
    "import time\n",
    "\n",
    "from threading import Thread\n",
    "from threading import Lock\n",
    "\n",
    "import multiprocessing\n",
    "\n",
    "from sklearn.model_selection import train_test_split \n",
    "\n",
    "from src.Images import preprocess_images_from_dir\n",
    "from src.Images import get_all_images_path\n",
    "from src.Images import read_processed_image\n",
    "from src.Images import plot_image\n",
    "from src.Images import flatten_to_image\n",
    "\n",
    "from src.Distances import euclidean_distance\n",
    "\n",
    "from src.Knn import Knn\n",
    "\n",
    "\n",
    "WORKSPACE = os.path.curdir\n",
    "DATASET_DIR = os.path.join(WORKSPACE, \"dataset\")\n",
    "IMAGES_DIR = os.path.join(DATASET_DIR, \"dataset\")\n",
    "PROCESSED_IMAGES_PATH = os.path.join(IMAGES_DIR, \"_processed\")\n",
    "\n",
    "N_ROWS = 16\n",
    "N_COLUMNS = 16\n",
    "\n",
    "file_lock = Lock()\n",
    "correct_lock = Lock()\n",
    "wrong_lock = Lock()\n",
    "correct = 0\n",
    "wrong = 0"
   ]
  },
  {
   "cell_type": "code",
   "execution_count": 2,
   "id": "851d2727-e87b-4f7f-81c7-8163c85ae7be",
   "metadata": {},
   "outputs": [
    {
     "name": "stdin",
     "output_type": "stream",
     "text": [
      "Are you sure you want to preprocess all images? [type 'yes'] yes\n"
     ]
    },
    {
     "name": "stdout",
     "output_type": "stream",
     "text": [
      "Found 40000 image(s)\n",
      "Directory ./dataset/dataset/_processed removed\n",
      "Writing images...\n",
      "Finished!\n"
     ]
    }
   ],
   "source": [
    "ans = input(\"Are you sure you want to preprocess all images? [type 'yes']\")\n",
    "if ans == \"yes\":\n",
    "    preprocess_images_from_dir(dir_path=IMAGES_DIR, n_rows=N_ROWS, n_columns=N_COLUMNS, extension=\"png\")"
   ]
  },
  {
   "cell_type": "code",
   "execution_count": 3,
   "id": "ef1f1bb0-b9d9-4e50-8dda-966fcaee0a13",
   "metadata": {},
   "outputs": [
    {
     "data": {
      "text/plain": [
       "['./dataset/dataset/_processed/14719 flat tile corner 2x2 000L.png',\n",
       " './dataset/dataset/_processed/14719 flat tile corner 2x2 000R.png',\n",
       " './dataset/dataset/_processed/14719 flat tile corner 2x2 001L.png',\n",
       " './dataset/dataset/_processed/14719 flat tile corner 2x2 001R.png',\n",
       " './dataset/dataset/_processed/14719 flat tile corner 2x2 002L.png']"
      ]
     },
     "execution_count": 3,
     "metadata": {},
     "output_type": "execute_result"
    }
   ],
   "source": [
    "images_path = get_all_images_path(PROCESSED_IMAGES_PATH)\n",
    "images_path[:5]"
   ]
  },
  {
   "cell_type": "code",
   "execution_count": 4,
   "id": "00bc39ea-34b4-47ab-9e43-fc4d7b26e04f",
   "metadata": {},
   "outputs": [],
   "source": [
    "data = [\n",
    "    (\n",
    "        int(path.split(\" \")[0].split(\"/\")[-1]),\n",
    "        read_processed_image(path, N_ROWS, N_COLUMNS).flatten()\n",
    "    ) for path in images_path\n",
    "]\n",
    "\n",
    "\n",
    "y, x = zip(*data)\n",
    "x = list(x)\n",
    "y = list(y)"
   ]
  },
  {
   "cell_type": "code",
   "execution_count": 5,
   "id": "6b106fb7-5a55-4852-ad24-55fe13b9fc93",
   "metadata": {},
   "outputs": [],
   "source": [
    "x_train, x_test, y_train, y_test = train_test_split(x, y, test_size=0.3, random_state=42, shuffle=True)"
   ]
  },
  {
   "cell_type": "code",
   "execution_count": 6,
   "id": "a63db8d3-e2cc-4361-8196-7064577448de",
   "metadata": {},
   "outputs": [
    {
     "name": "stdout",
     "output_type": "stream",
     "text": [
      "28000 points were added!\n"
     ]
    },
    {
     "data": {
      "text/plain": [
       "28000"
      ]
     },
     "execution_count": 6,
     "metadata": {},
     "output_type": "execute_result"
    }
   ],
   "source": [
    "knn = Knn()\n",
    "\n",
    "knn.add_points(list(zip(y_train, x_train)))"
   ]
  },
  {
   "cell_type": "code",
   "execution_count": 7,
   "id": "110f46f1-3a7f-49b1-8eaf-778a0a17a00c",
   "metadata": {},
   "outputs": [
    {
     "data": {
      "image/png": "[encoded data removed]",
      "text/plain": [
       "<Figure size 640x480 with 1 Axes>"
      ]
     },
     "metadata": {},
     "output_type": "display_data"
    }
   ],
   "source": [
    "plot_image(flatten_to_image(x_train[5], N_ROWS, N_COLUMNS))"
   ]
  },
  {
   "cell_type": "code",
   "execution_count": 8,
   "id": "8d8bff9b-443b-40d4-be92-ae3f076e4b97",
   "metadata": {},
   "outputs": [],
   "source": [
    "\n",
    "def split_data_into_chunks(data, num_chunks):\n",
    "    avg_chunk_size = len(data) // num_chunks\n",
    "    chunks = [data[i:i+avg_chunk_size] for i in range(0, len(data), avg_chunk_size)]\n",
    "    return chunks\n",
    "\n",
    "def thread_function(file_lock, correct_lock, wrong_lock, knn, test_data, correct, wrong):\n",
    "    total_start = time.time()\n",
    "    log = \"\"\n",
    "    for point, right_answer in test_data:\n",
    "        start = time.time()\n",
    "        returned_answer = knn.classify(point)\n",
    "        total = time.time() - start\n",
    "        log += f\"{right_answer},{returned_answer},{returned_answer == right_answer},{total}\\n\"\n",
    "        \n",
    "    with file_lock:\n",
    "        with open(f\"{N_ROWS}x{N_COLUMNS}_execution_log.csv\", \"a\") as file:\n",
    "            file.write(log)\n",
    "            # file.write(f\"{right_answer},{returned_answer},{returned_answer == right_answer},{total}\\n\")\n",
    "            \n",
    "        # if returned_answer == right_answer:\n",
    "        #     with correct_lock:\n",
    "        #         correct += 1\n",
    "        # else:\n",
    "        #     with wrong_lock:\n",
    "        #         wrong += 1\n",
    "\n",
    "    print(f\"Total time for thread {Thread.ident}: {time.time() - total_start}s\")"
   ]
  },
  {
   "cell_type": "code",
   "execution_count": 9,
   "id": "578796b4-63d5-4cba-bb94-15e8c716b759",
   "metadata": {},
   "outputs": [
    {
     "name": "stdout",
     "output_type": "stream",
     "text": [
      "Total time for thread <property object at 0x7f005c2f2430>: 6.792163848876953s\n",
      "Total time for thread <property object at 0x7f005c2f2430>: 6.837247848510742s\n",
      "Total time for thread <property object at 0x7f005c2f2430>: 6.969717741012573s\n",
      "Total time for thread <property object at 0x7f005c2f2430>: 6.978821516036987s\n",
      "Total time for all process: 7.05996036529541s\n",
      "0/100 right answers (0.0%)\n",
      "0/100 wrong answers (0.0%)\n"
     ]
    }
   ],
   "source": [
    "threads = []\n",
    "num_threads = 4\n",
    "\n",
    "number_of_tests_used = 100\n",
    "\n",
    "test_data = list(zip(x_test[:number_of_tests_used], y_test[:number_of_tests_used]))\n",
    "total_tests = len(test_data)\n",
    "\n",
    "chunks = split_data_into_chunks(test_data, num_threads)\n",
    "\n",
    "total_execution_start = time.time()\n",
    "\n",
    "for chunk in chunks:\n",
    "    thread = multiprocessing.Process(target=thread_function, args=(file_lock, correct_lock, wrong_lock, knn, chunk, correct, wrong))\n",
    "    threads.append(thread)\n",
    "    thread.start()\n",
    "\n",
    "for thread in threads:\n",
    "    thread.join()\n",
    "\n",
    "print(f\"Total time for all process: {time.time()-total_execution_start}s\")\n",
    "\n",
    "print(f\"{correct}/{total_tests} right answers ({correct/total_tests*100}%)\")\n",
    "print(f\"{wrong}/{total_tests} wrong answers ({wrong/total_tests*100}%)\")"
   ]
  },
  {
   "cell_type": "code",
   "execution_count": 10,
   "id": "a708c695-d321-4a86-b7e1-db40f0a3b030",
   "metadata": {},
   "outputs": [],
   "source": [
    "# correct = 0\n",
    "# wrong = 0\n",
    "\n",
    "# test_data = list(zip(x_test[:100], y_test[:100]))\n",
    "\n",
    "# total_tests = len(test_data)\n",
    "\n",
    "# for point, right_answer in test_data:\n",
    "#     start = time.time()\n",
    "#     returned_answer = knn.classify(point)\n",
    "#     total = time.time() - start\n",
    "    \n",
    "#     with open(f\"{N_ROWS}x{N_COLUMNS}_execution_log.csv\", \"a\") as file:\n",
    "#         file.write(f\"{right_answer},{returned_answer},{returned_answer == right_answer},{total}\\n\")\n",
    "        \n",
    "#     if returned_answer == right_answer:\n",
    "#         correct += 1\n",
    "#     else:\n",
    "#         wrong += 1\n",
    "\n",
    "# print(f\"{correct}/{total_tests} right answers ({correct/total_tests*100}%)\")\n",
    "# print(f\"{wrong}/{total_tests} wrong answers ({wrong/total_tests*100}%)\")"
   ]
  }
 ],
 "metadata": {
  "kernelspec": {
   "display_name": "Python 3 (ipykernel)",
   "language": "python",
   "name": "python3"
  },
  "language_info": {
   "codemirror_mode": {
    "name": "ipython",
    "version": 3
   },
   "file_extension": ".py",
   "mimetype": "text/x-python",
   "name": "python",
   "nbconvert_exporter": "python",
   "pygments_lexer": "ipython3",
   "version": "3.12.2"
  }
 },
 "nbformat": 4,
 "nbformat_minor": 5
}
