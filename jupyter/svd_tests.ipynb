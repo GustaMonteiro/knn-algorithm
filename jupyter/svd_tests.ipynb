{
 "cells": [
  {
   "cell_type": "code",
   "execution_count": 1,
   "id": "6b4fa400-d441-40fb-8121-1f639a97df5b",
   "metadata": {},
   "outputs": [
    {
     "name": "stdout",
     "output_type": "stream",
     "text": [
      "USE_NUMPY_ARRAY: True\n",
      "N_ROWS: 32\n",
      "N_COLUMNS: 32\n",
      "PREPROCESS_IMAGES: False\n",
      "N_THREADS: 4\n",
      "N_TESTS_USED: 0\n",
      "WORKSPACE: .\n",
      "DATASET_DIR: ./dataset\n",
      "IMAGES_DIR: ./dataset/dataset\n",
      "PROCESSED_IMAGES_PATH: ./dataset/dataset/_processed\n"
     ]
    }
   ],
   "source": [
    "import matplotlib.pyplot as plt\n",
    "import numpy as np\n",
    "import os\n",
    "import cv2\n",
    "import time\n",
    "\n",
    "from threading import Thread\n",
    "from threading import Lock\n",
    "\n",
    "import multiprocessing\n",
    "\n",
    "from sklearn.model_selection import train_test_split \n",
    "\n",
    "from src.Images import preprocess_images_from_dir\n",
    "from src.Images import get_all_images_path\n",
    "from src.Images import read_processed_image\n",
    "from src.Images import plot_image\n",
    "from src.Images import flatten_to_image\n",
    "\n",
    "from src.Distances import euclidean_distance\n",
    "from src.Distances import cosine_distance\n",
    "\n",
    "from src.Knn import Knn\n",
    "\n",
    "from src.Settings import *\n",
    "\n",
    "from src.Parallel import thread_classify_function\n",
    "from src.Parallel import split_data_into_chunks\n",
    "from src.Parallel import presentation_thread_classify_function\n",
    "\n",
    "print_all_settings()"
   ]
  },
  {
   "cell_type": "code",
   "execution_count": 2,
   "id": "612ecc92-f06e-46b0-a53d-8ed004167b5f",
   "metadata": {},
   "outputs": [
    {
     "data": {
      "text/plain": [
       "['./dataset/dataset/_processed/14719 flat tile corner 2x2 000L.png',\n",
       " './dataset/dataset/_processed/14719 flat tile corner 2x2 000R.png',\n",
       " './dataset/dataset/_processed/14719 flat tile corner 2x2 001L.png']"
      ]
     },
     "execution_count": 2,
     "metadata": {},
     "output_type": "execute_result"
    }
   ],
   "source": [
    "images_path = get_all_images_path(GlobalSettings.PROCESSED_IMAGES_PATH)\n",
    "images_path[:3]"
   ]
  },
  {
   "cell_type": "code",
   "execution_count": 3,
   "id": "6cdd4ebb-7a82-43d8-8bf0-f76ebfaf4b6f",
   "metadata": {},
   "outputs": [],
   "source": [
    "data = [\n",
    "    (\n",
    "        int(path.split(\" \")[0].split(\"/\")[-1]),\n",
    "        path,\n",
    "    ) for path in images_path\n",
    "]"
   ]
  },
  {
   "cell_type": "code",
   "execution_count": 4,
   "id": "ddd14cc3-1054-42d8-91c5-2805871f94c6",
   "metadata": {},
   "outputs": [],
   "source": [
    "y, x = zip(*data)\n",
    "x = list(x)\n",
    "y = list(y)"
   ]
  },
  {
   "cell_type": "code",
   "execution_count": 6,
   "id": "4cdb6b58-6e5f-417f-a48b-60d19499fce7",
   "metadata": {},
   "outputs": [],
   "source": [
    "x_train_paths, x_test_paths, y_train, y_test = train_test_split(x, y, test_size=0.3, random_state=42, shuffle=True)"
   ]
  },
  {
   "cell_type": "code",
   "execution_count": 7,
   "id": "0ace169d-bf29-425d-92a3-97626afcf428",
   "metadata": {},
   "outputs": [],
   "source": [
    "x_train_original = [np.reshape(read_processed_image(path, GlobalSettings.N_ROWS, GlobalSettings.N_COLUMNS).flatten(),(-1,1)) for path in x_train_paths]"
   ]
  },
  {
   "cell_type": "code",
   "execution_count": 8,
   "id": "f8e79268-ec45-4593-abeb-a660256f40c2",
   "metadata": {},
   "outputs": [
    {
     "data": {
      "text/plain": [
       "28000"
      ]
     },
     "execution_count": 8,
     "metadata": {},
     "output_type": "execute_result"
    }
   ],
   "source": [
    "len(x_train_original)"
   ]
  },
  {
   "cell_type": "code",
   "execution_count": 9,
   "id": "771ff6a3-8b3d-4faa-b174-399c52fbfd5e",
   "metadata": {},
   "outputs": [
    {
     "data": {
      "text/plain": [
       "(1024, 1)"
      ]
     },
     "execution_count": 9,
     "metadata": {},
     "output_type": "execute_result"
    }
   ],
   "source": [
    "x_train_original[0].shape"
   ]
  },
  {
   "cell_type": "code",
   "execution_count": 10,
   "id": "135822fd-f451-4a81-a140-80feea037a72",
   "metadata": {},
   "outputs": [
    {
     "name": "stdout",
     "output_type": "stream",
     "text": [
      "(1024, 28000)\n"
     ]
    },
    {
     "data": {
      "text/plain": [
       "array([[0., 0., 0., ..., 0., 0., 0.],\n",
       "       [0., 0., 0., ..., 0., 0., 0.],\n",
       "       [0., 0., 0., ..., 0., 0., 0.],\n",
       "       ...,\n",
       "       [0., 0., 0., ..., 0., 0., 0.],\n",
       "       [0., 0., 0., ..., 0., 0., 0.],\n",
       "       [0., 0., 0., ..., 0., 0., 0.]])"
      ]
     },
     "execution_count": 10,
     "metadata": {},
     "output_type": "execute_result"
    }
   ],
   "source": [
    "M = x_train_original[0]\n",
    "for i in range(1, len(x_train_original)):\n",
    "    M = np.hstack((M, x_train_original[i]))\n",
    "\n",
    "print(M.shape)\n",
    "M"
   ]
  },
  {
   "cell_type": "code",
   "execution_count": 11,
   "id": "048f9481-3e4e-481b-8ab2-c015777be422",
   "metadata": {},
   "outputs": [
    {
     "name": "stdout",
     "output_type": "stream",
     "text": [
      "(28000,)\n"
     ]
    },
    {
     "data": {
      "text/plain": [
       "array([0.02754672, 0.01830959, 0.02506893, ..., 0.03283931, 0.04458487,\n",
       "       0.1147595 ])"
      ]
     },
     "execution_count": 11,
     "metadata": {},
     "output_type": "execute_result"
    }
   ],
   "source": [
    "M_mean = np.mean(M, axis=0)\n",
    "print(M_mean.shape)\n",
    "M_mean"
   ]
  },
  {
   "cell_type": "code",
   "execution_count": 12,
   "id": "5074ecd5-afb3-4ca9-9242-a5063ca9c196",
   "metadata": {},
   "outputs": [],
   "source": [
    "M = M - M_mean"
   ]
  },
  {
   "cell_type": "code",
   "execution_count": 13,
   "id": "bc80506e-3c6b-49a1-a1a5-cfc74046e45e",
   "metadata": {},
   "outputs": [
    {
     "name": "stdout",
     "output_type": "stream",
     "text": [
      "Dimensões de u: (1024, 1024)\n",
      "Dimensões de s: (1024,)\n",
      "Dimensões de vt: (1024, 28000)\n"
     ]
    }
   ],
   "source": [
    "u, s, vt = np.linalg.svd(M,full_matrices=False)\n",
    "\n",
    "print(\"Dimensões de u:\", u.shape)\n",
    "print(\"Dimensões de s:\", s.shape)\n",
    "print(\"Dimensões de vt:\", vt.shape)"
   ]
  },
  {
   "cell_type": "code",
   "execution_count": 14,
   "id": "15c0fcf2-9d83-410f-8531-3f772021cdc7",
   "metadata": {},
   "outputs": [],
   "source": [
    "r = 100 \n",
    "lista_imagens_projetadas = []\n",
    "\n",
    "for i in range(len(x_train_paths)):\n",
    "    path = x_train_paths[i]\n",
    "    imag = np.reshape(read_processed_image(path, GlobalSettings.N_ROWS, GlobalSettings.N_COLUMNS).flatten(),(-1,1))\n",
    "    imag_proj = u[:,0:r].T@imag\n",
    "    lista_imagens_projetadas.append(imag_proj)"
   ]
  },
  {
   "cell_type": "code",
   "execution_count": 15,
   "id": "05c43078-008d-495a-8964-233d21bc3fb3",
   "metadata": {},
   "outputs": [
    {
     "data": {
      "text/plain": [
       "28000"
      ]
     },
     "execution_count": 15,
     "metadata": {},
     "output_type": "execute_result"
    }
   ],
   "source": [
    "len(lista_imagens_projetadas)"
   ]
  },
  {
   "cell_type": "code",
   "execution_count": 16,
   "id": "3d80054f-ec8a-495d-bd6f-dcb71e98cdb2",
   "metadata": {},
   "outputs": [],
   "source": [
    "acertos = 0\n",
    "erros = 0\n",
    "\n",
    "for path_index in range(len(x_test_paths)):\n",
    "    path = x_test_paths[path_index]\n",
    "    imagemTeste = np.reshape(read_processed_image(path, GlobalSettings.N_ROWS, GlobalSettings.N_COLUMNS).flatten(),(-1,1))\n",
    "    imagemTesteProjetada = u[:,0:r].T@imagemTeste\n",
    "    distancia = 5000000\n",
    "    index=-1\n",
    "    for i in range(len(lista_imagens_projetadas)): \n",
    "        dist = np.linalg.norm(imagemTesteProjetada-lista_imagens_projetadas[i])\n",
    "        if dist < distancia:\n",
    "            distancia = dist\n",
    "            index = i\n",
    "\n",
    "    if y_test[path_index] == y_train[index]:\n",
    "        acertos += 1\n",
    "    else:\n",
    "        erros += 1\n",
    "        \n",
    "total = acertos+erros"
   ]
  },
  {
   "cell_type": "code",
   "execution_count": 17,
   "id": "2ed0e65b-1ffb-4d3f-a431-53d4d4922248",
   "metadata": {},
   "outputs": [
    {
     "name": "stdout",
     "output_type": "stream",
     "text": [
      "Quantidade de acertos: 7284\n",
      "Quantidade de erros: 4716\n",
      "Total: 12000\n",
      "Acurácia: 60.70%\n"
     ]
    }
   ],
   "source": [
    "print(\"Quantidade de acertos:\", acertos)\n",
    "print(\"Quantidade de erros:\", erros)\n",
    "print(\"Total:\", total)\n",
    "print(\"Acurácia: {:.2f}%\".format(100*(acertos/total)))"
   ]
  }
 ],
 "metadata": {
  "kernelspec": {
   "display_name": "Python 3 (ipykernel)",
   "language": "python",
   "name": "python3"
  },
  "language_info": {
   "codemirror_mode": {
    "name": "ipython",
    "version": 3
   },
   "file_extension": ".py",
   "mimetype": "text/x-python",
   "name": "python",
   "nbconvert_exporter": "python",
   "pygments_lexer": "ipython3",
   "version": "3.12.4"
  }
 },
 "nbformat": 4,
 "nbformat_minor": 5
}
